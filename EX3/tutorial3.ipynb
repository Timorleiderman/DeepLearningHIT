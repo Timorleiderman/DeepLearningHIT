{
 "cells": [
  {
   "cell_type": "markdown",
   "metadata": {},
   "source": [
    "# Tutorial No. 3"
   ]
  },
  {
   "cell_type": "markdown",
   "metadata": {},
   "source": [
    "## 1. Import Packages"
   ]
  },
  {
   "cell_type": "code",
   "execution_count": null,
   "metadata": {},
   "outputs": [],
   "source": [
    "from keras.models import Sequential\n",
    "from keras.layers import Dropout, BatchNormalization\n",
    "from keras.layers import Conv2D, Conv2DTranspose, MaxPooling2D, UpSampling2D\n",
    "from keras.layers import Softmax\n",
    "from keras.utils import to_categorical\n",
    "from keras.callbacks import EarlyStopping\n",
    "from keras import optimizers\n",
    "\n",
    "import numpy as np\n",
    "import cv2 \n",
    "import os\n",
    "from glob import glob\n",
    "import matplotlib.pyplot as plt\n"
   ]
  },
  {
   "cell_type": "markdown",
   "metadata": {},
   "source": [
    "## 2. Load Data"
   ]
  },
  {
   "cell_type": "code",
   "execution_count": null,
   "metadata": {},
   "outputs": [],
   "source": [
    "def read_data(directory):\n",
    "# =============================================================================\n",
    "#  This function gets a directory name and returns all images in it concatenated \n",
    "#  to each other\n",
    "# =============================================================================    \n",
    "    data_list = glob(os.path.join('.','Data' + directory + '*.png'))\n",
    "    data = np.asarray([cv2.imread(img,0) for img in data_list])\n",
    "    return data\n",
    "\n",
    "# read data from directory\n",
    "x_train = read_data('\\Train\\Raw\\\\')\n",
    "y_train = read_data('\\Train\\Seg\\\\')\n",
    "x_test = read_data('\\Test\\Raw\\\\')\n",
    "y_test = read_data('\\Test\\Seg\\\\')\n",
    "\n",
    "# Change the shape to (n_clss)x(Height)x(Weight)x(channels)\n",
    "x_train = (np.expand_dims(x_train, axis=3)).astype('float')\n",
    "x_test =  (np.expand_dims(x_test, axis=3)).astype('float')\n",
    "\n",
    "# Change labels to categorical\n",
    "y_train = (to_categorical(y_train)).astype('float')\n",
    "y_test = (to_categorical(y_test)).astype('float')\n",
    "\n",
    "print('x_train shape:', x_train.shape)\n",
    "print('x_test shape:', x_test.shape)\n",
    "print('y_train shape:', y_train.shape)\n",
    "print('y_test shape:', y_test.shape)\n"
   ]
  },
  {
   "cell_type": "code",
   "execution_count": null,
   "metadata": {},
   "outputs": [],
   "source": [
    "# visualize some images and their segmentation labels\n",
    "plt.subplot(2,3,1)\n",
    "plt.imshow(np.squeeze(x_train[150,:,:]))\n",
    "plt.axis('off')\n",
    "\n",
    "plt.subplot(2,3,2)\n",
    "plt.imshow(np.squeeze(x_train[295,:,:]))\n",
    "plt.axis('off')\n",
    "\n",
    "plt.subplot(2,3,3)\n",
    "plt.imshow(np.squeeze(x_train[650,:,:]))\n",
    "plt.axis('off')\n",
    "\n",
    "plt.subplot(2,3,4)\n",
    "plt.imshow(y_train[150,:,:])\n",
    "plt.axis('off')\n",
    "\n",
    "plt.subplot(2,3,5)\n",
    "plt.imshow(y_train[295,:,:])\n",
    "plt.axis('off')\n",
    "\n",
    "plt.subplot(2,3,6)\n",
    "plt.imshow(y_train[650,:,:])\n",
    "plt.axis('off')\n"
   ]
  },
  {
   "cell_type": "markdown",
   "metadata": {},
   "source": [
    "## 3. Define Parameters "
   ]
  },
  {
   "cell_type": "code",
   "execution_count": null,
   "metadata": {},
   "outputs": [],
   "source": [
    "num_of_clss =           # number of classes\n",
    "lr =                    # learning rate \n",
    "beta_1 =                # beta 1 - for adam optimizer\n",
    "beta_2 =                # beta 2 - for adam optimizer\n",
    "epsilon =               # epsilon - for adam optimizer\n",
    "epochs =                # number of epochs\n",
    "bs =                    # batch size\n",
    "dp =                    # dropout probability\n"
   ]
  },
  {
   "cell_type": "markdown",
   "metadata": {},
   "source": [
    "## 4. Build CNN Model"
   ]
  },
  {
   "cell_type": "code",
   "execution_count": null,
   "metadata": {},
   "outputs": [],
   "source": [
    "\n",
    "\n",
    "\n",
    "\n",
    "\n",
    "\n"
   ]
  },
  {
   "cell_type": "markdown",
   "metadata": {},
   "source": [
    "##  5. Compile the Model"
   ]
  },
  {
   "cell_type": "code",
   "execution_count": null,
   "metadata": {},
   "outputs": [],
   "source": [
    "# define the optimizer and compile the model\n",
    "adam = optimizers.Adam(lr=lr, beta_1=beta_1, beta_2=beta_2, epsilon=epsilon)\n",
    "model.compile(optimizer=adam, loss='categorical_crossentropy', metrics=['accuracy'])\n",
    "\n",
    "# add early stopping\n",
    "monitor = EarlyStopping(monitor='val_loss', min_delta=1e-4, patience=5, verbose=1, mode='auto')\n"
   ]
  },
  {
   "cell_type": "markdown",
   "metadata": {},
   "source": [
    "## 6. Train the Model"
   ]
  },
  {
   "cell_type": "code",
   "execution_count": null,
   "metadata": {},
   "outputs": [],
   "source": [
    "\n",
    "\n",
    "\n",
    "\n",
    "\n",
    "\n"
   ]
  },
  {
   "cell_type": "markdown",
   "metadata": {},
   "source": [
    "## 7. Visualize"
   ]
  },
  {
   "cell_type": "code",
   "execution_count": null,
   "metadata": {},
   "outputs": [],
   "source": [
    "# plot train and validation loss \n",
    "plt.plot(history.history['loss'])\n",
    "plt.plot(history.history['val_loss'])\n",
    "plt.title('model loss')\n",
    "plt.ylabel('loss')\n",
    "plt.xlabel('epoch')\n",
    "plt.legend(['train', 'validation'], loc='upper left')\n",
    "plt.show(); plt.close()\n"
   ]
  },
  {
   "cell_type": "markdown",
   "metadata": {},
   "source": [
    "## 8. Model Evaluation"
   ]
  },
  {
   "cell_type": "code",
   "execution_count": null,
   "metadata": {},
   "outputs": [],
   "source": [
    "y_pred = model.predict(x_test)\n",
    "test_loss, test_acc = model.evaluate(x_test, y_test)\n",
    "\n",
    "# Print results\n",
    "print('test loss:', test_loss)\n",
    "print('test accuracy:', test_acc)\n",
    "\n",
    "# visualize some images with their prediction and true labels\n",
    "plt.subplot(3,3,1)\n",
    "plt.imshow(np.squeeze(x_test[10,:,:]))\n",
    "plt.axis('off')\n",
    "\n",
    "plt.subplot(3,3,2)\n",
    "plt.imshow(np.squeeze(x_test[20,:,:]))\n",
    "plt.axis('off')\n",
    "\n",
    "plt.subplot(3,3,3)\n",
    "plt.imshow(np.squeeze(x_test[30,:,:]))\n",
    "plt.axis('off')\n",
    "\n",
    "plt.subplot(3,3,4)\n",
    "plt.imshow(y_pred[10,:,:])\n",
    "plt.axis('off')\n",
    "\n",
    "plt.subplot(3,3,5)\n",
    "plt.imshow(y_pred[20,:,:])\n",
    "plt.axis('off')\n",
    "\n",
    "plt.subplot(3,3,6)\n",
    "plt.imshow(y_pred[30,:,:])\n",
    "plt.axis('off')\n",
    "\n",
    "plt.subplot(3,3,7)\n",
    "plt.imshow(y_test[10,:,:])\n",
    "plt.axis('off')\n",
    "\n",
    "plt.subplot(3,3,8)\n",
    "plt.imshow(y_test[20,:,:])\n",
    "plt.axis('off')\n",
    "\n",
    "plt.subplot(3,3,9)\n",
    "plt.imshow(y_test[30,:,:])\n",
    "plt.axis('off')"
   ]
  }
 ],
 "metadata": {
  "kernelspec": {
   "display_name": "Python 3",
   "language": "python",
   "name": "python3"
  },
  "language_info": {
   "codemirror_mode": {
    "name": "ipython",
    "version": 3
   },
   "file_extension": ".py",
   "mimetype": "text/x-python",
   "name": "python",
   "nbconvert_exporter": "python",
   "pygments_lexer": "ipython3",
   "version": "3.7.5"
  }
 },
 "nbformat": 4,
 "nbformat_minor": 2
}
